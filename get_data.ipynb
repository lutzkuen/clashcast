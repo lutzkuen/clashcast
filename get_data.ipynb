{
 "cells": [
  {
   "cell_type": "markdown",
   "id": "c7093785-9ecc-444b-8c3b-b1fed3a787e0",
   "metadata": {},
   "source": [
    "# Clash of Clans API Exploration\n",
    "\n",
    "This notebook has some basic API exploration and the methods to fetch clan war data from the API"
   ]
  },
  {
   "cell_type": "markdown",
   "id": "10dce87e-c203-44d5-a4db-5313924d3d1b",
   "metadata": {},
   "source": [
    "The API supports Bearer-style authentication which is straight forward to use with requests. A token can be generated here https://developer.clashofclans.com/#/. You need to configure all the IP adresses you want to use the API with in the CoC developer portal"
   ]
  },
  {
   "cell_type": "code",
   "execution_count": 7,
   "id": "fe7b1970-9311-4973-901c-70e45c4f5fea",
   "metadata": {},
   "outputs": [],
   "source": [
    "\n",
    "\n",
    "import requests\n",
    "import os\n",
    "\n",
    "header = {\"Authorization\": f\"Bearer {os.getenv('CLASH_OF_CLANS_KEY')}\"}\n",
    "\n",
    "mytag = '#Q8P2JR020'\n",
    "myclan = '#2L8L9RLYU'\n",
    "\n",
    "url = \"https://api.clashofclans.com/v1\"\n"
   ]
  },
  {
   "cell_type": "markdown",
   "id": "cb0d6be9-60ba-40b5-bc45-74f8746e3676",
   "metadata": {},
   "source": [
    "The first interesting endpoint is about clanwars. We can get information about the current clan war for our own clan and all clans with public clan war log."
   ]
  },
  {
   "cell_type": "code",
   "execution_count": 2,
   "id": "f88d4d00-4c7d-4e6c-aa36-11f8572252d3",
   "metadata": {},
   "outputs": [],
   "source": [
    "# clans = clans_response.json()['items']\n",
    "\n",
    "# for clan in clans:\n",
    "# response = requests.get(f\"{url}/clans/{myclan}/currentwar\", headers=header)\n",
    "def get_war_log(clan_tag):\n",
    "    response = requests.get(f\"https://api.clashofclans.com/v1/clans/%23{clan_tag.replace('#', '')}/currentwar\", headers=header)\n",
    "    \n",
    "    # print(response.json())\n",
    "    if 'reason' in response.json().keys():\n",
    "        if response.json()['reason'] == 'accessDenied':\n",
    "            print(\"Access Denied\")\n",
    "            return '', []\n",
    "    if 'state' in response.json().keys():\n",
    "        if response.json()['state'] == 'notInWar':\n",
    "            print(\"Not in war\")\n",
    "            return '', []\n",
    "        if response.json()['state'] == 'preparation':\n",
    "            print(\"In preparation\")\n",
    "            return '', []\n",
    "    attacks = []\n",
    "    # print(response.json())\n",
    "    for member in response.json()['clan']['members']:\n",
    "        if 'attacks' not in member.keys():\n",
    "            continue\n",
    "        for attack in member['attacks']:\n",
    "            attacker_info = get_player_info(attack['attackerTag'])\n",
    "            for key in attacker_info.keys():\n",
    "                new_key = f\"attacker_{key}\"\n",
    "                attack[new_key] = attacker_info[key]\n",
    "            defender_info = get_player_info(attack['defenderTag'])\n",
    "            for key in defender_info.keys():\n",
    "                new_key = f\"defender_{key}\"\n",
    "                attack[new_key] = defender_info[key]\n",
    "            attacks.append(attack)\n",
    "    for member in response.json()['opponent']['members']:\n",
    "        if 'attacks' not in member.keys():\n",
    "            continue\n",
    "        for attack in member['attacks']:\n",
    "            attacker_info = get_player_info(attack['attackerTag'])\n",
    "            for key in attacker_info.keys():\n",
    "                new_key = f\"attacker_{key}\"\n",
    "                attack[new_key] = attacker_info[key]\n",
    "            defender_info = get_player_info(attack['defenderTag'])\n",
    "            for key in defender_info.keys():\n",
    "                new_key = f\"defender_{key}\"\n",
    "                attack[new_key] = defender_info[key]\n",
    "            attacks.append(attack)\n",
    "    attacks = sorted(attacks, key = lambda x: x.get('order'))\n",
    "    # for attack in attacks:\n",
    "    #    print(attack)\n",
    "    clan_tags = '_'.join(sorted([response.json()['clan']['tag'], response.json()['opponent']['tag']])).replace('#', '')\n",
    "    war_tag = response.json()['startTime'] + '_' + clan_tags\n",
    "    return war_tag, attacks\n",
    "# for line in get_war_log('#2Q9GVOYLV'):\n",
    "#    print(line)"
   ]
  },
  {
   "cell_type": "code",
   "execution_count": 12,
   "id": "2975ea5a-06b8-4868-9fe3-e62cfad4e545",
   "metadata": {},
   "outputs": [],
   "source": [
    "def get_player_info(player_tag):\n",
    "    response = requests.get(f\"https://api.clashofclans.com/v1/players/%23{player_tag.replace('#', '')}\", headers=header)\n",
    "    player_info = dict()\n",
    "    for key in [\"townHallLevel\", \"expLevel\", \"trophies\", \"bestTrophies\", \"warStars\", \"attackWins\", \"defenseWins\", \"builderHallLevel\", \"versusTrophies\", \"bestVersusTrophies\", \"versusBattleWins\", \"warPreference\", \"donations\", \"donationsReceived\", \"clanCapitalContributions\"]: \n",
    "        player_info[key] = response.json()[key]\n",
    "    if \"league\" in response.json().keys():\n",
    "        player_info[\"league\"] = response.json()[\"league\"][\"name\"]\n",
    "    else:\n",
    "        player_info[\"league\"] = \"none\"\n",
    "    for troop in response.json()['troops']:\n",
    "        key = f\"troop_{troop['name'].replace(' ', '_')}_level\"\n",
    "        player_info[key] = troop['level']\n",
    "    for hero in response.json()['heroes']:\n",
    "        key = f\"hero_{hero['name'].replace(' ', '_')}_level\"\n",
    "        player_info[key] = hero['level']\n",
    "    for spell in response.json()['spells']:\n",
    "        key = f\"spell_{spell['name'].replace(' ', '_')}_level\"\n",
    "        player_info[key] = spell['level']\n",
    "    return player_info\n",
    "\n",
    "info = get_player_info(mytag)"
   ]
  },
  {
   "cell_type": "code",
   "execution_count": 6,
   "id": "816ac75c-a00b-4ef2-8821-bbf08596e203",
   "metadata": {},
   "outputs": [
    {
     "data": {
      "text/plain": [
       "{'reason': 'accessDenied.invalidIp',\n",
       " 'message': 'Invalid authorization: API key does not allow access from IP 45.14.97.10'}"
      ]
     },
     "execution_count": 6,
     "metadata": {},
     "output_type": "execute_result"
    }
   ],
   "source": [
    "response = requests.get(f\"https://api.clashofclans.com/v1/players/%23{mytag.replace('#', '')}\", headers=header)\n",
    "response.json()"
   ]
  },
  {
   "cell_type": "code",
   "execution_count": 13,
   "id": "118641be-56bd-4359-ab08-6400e4fec5dc",
   "metadata": {},
   "outputs": [
    {
     "name": "stdout",
     "output_type": "stream",
     "text": [
      "7\n"
     ]
    }
   ],
   "source": [
    "print(f\"{info['attackWins']}\")"
   ]
  },
  {
   "cell_type": "code",
   "execution_count": 25,
   "id": "918310e1-14f3-4f94-b485-7a1f9f7785ea",
   "metadata": {},
   "outputs": [
    {
     "data": {
      "text/plain": [
       "'%24cw'"
      ]
     },
     "execution_count": 25,
     "metadata": {},
     "output_type": "execute_result"
    }
   ],
   "source": [
    "import urllib.parse\n",
    "import random\n",
    "import string\n",
    "\n",
    "def get_random_string(length):\n",
    "    # choose from all lowercase letter\n",
    "    letters = string.printable\n",
    "    result_str = ''.join(random.choice(letters) for i in range(length))\n",
    "    return urllib.parse.quote(result_str)\n",
    "    \n",
    "get_random_string(3)"
   ]
  },
  {
   "cell_type": "code",
   "execution_count": 17,
   "id": "393ba38d-06b9-4056-8f2f-a0a5ec20cbc7",
   "metadata": {},
   "outputs": [
    {
     "data": {
      "text/plain": [
       "{'tag': '#2YLVL0QPQ',\n",
       " 'name': 'knn',\n",
       " 'type': 'open',\n",
       " 'badgeUrls': {'small': 'https://api-assets.clashofclans.com/badges/70/BIZ4D9ihzimhDQ4y8GKb0VbXvJKDiLVIJ_MyIQxDVLA.png',\n",
       "  'large': 'https://api-assets.clashofclans.com/badges/512/BIZ4D9ihzimhDQ4y8GKb0VbXvJKDiLVIJ_MyIQxDVLA.png',\n",
       "  'medium': 'https://api-assets.clashofclans.com/badges/200/BIZ4D9ihzimhDQ4y8GKb0VbXvJKDiLVIJ_MyIQxDVLA.png'},\n",
       " 'clanLevel': 1,\n",
       " 'clanPoints': 1570,\n",
       " 'clanVersusPoints': 1671,\n",
       " 'requiredTrophies': 0,\n",
       " 'warFrequency': 'unknown',\n",
       " 'warWinStreak': 0,\n",
       " 'warWins': 0,\n",
       " 'warTies': 0,\n",
       " 'warLosses': 0,\n",
       " 'isWarLogPublic': True,\n",
       " 'warLeague': {'id': 48000000, 'name': 'Unranked'},\n",
       " 'members': 3,\n",
       " 'labels': [],\n",
       " 'requiredVersusTrophies': 0,\n",
       " 'requiredTownhallLevel': 1}"
      ]
     },
     "execution_count": 17,
     "metadata": {},
     "output_type": "execute_result"
    }
   ],
   "source": [
    "clans_response.json()[\"items\"][3]"
   ]
  },
  {
   "cell_type": "code",
   "execution_count": 26,
   "id": "cea20b33-dcf0-4de6-a511-e2c062cd4415",
   "metadata": {},
   "outputs": [
    {
     "name": "stdout",
     "output_type": "stream",
     "text": [
      "new search string ~nV\n",
      "found 0 clans\n",
      "new search string %28U%3C\n",
      "found 0 clans\n",
      "new search string o%3E0\n",
      "found 0 clans\n",
      "new search string 5jl\n",
      "found 0 clans\n",
      "new search string .uw\n",
      "found 1 clans\n",
      "Parsing clan .UwU.\n",
      "Clan war log is not public\n",
      "new search string %28%296\n",
      "found 0 clans\n",
      "new search string 9%3Fk\n",
      "found 0 clans\n",
      "new search string Xi7\n",
      "found 0 clans\n",
      "new search string Peu\n",
      "found 57 clans\n",
      "Parsing clan comme on peu\n",
      "Clan war log is not public\n",
      "Parsing clan curieux un peu\n",
      "2022-11-26 14:00:58.407902 - 20221123T185024.000Z_2LV80QJL2_2QY9L0LVU / 17\n",
      "Parsing clan Le Petit Peuple\n",
      "In preparation\n",
      "Parsing clan From Peuteuy\n",
      "In preparation\n",
      "Parsing clan le Peuple Libre\n",
      "Clan war log is not public\n",
      "Parsing clan peugeot 27\n",
      "In preparation\n",
      "Parsing clan Les ptit peudeu\n",
      "In preparation\n",
      "Parsing clan Meme pas peur\n",
      "Clan war log is not public\n",
      "Parsing clan peuyeum\n",
      "In preparation\n",
      "Parsing clan Même pas peur !\n",
      "2022-11-26 14:03:18.694564 - 20221124T212954.000Z_G9JL29PR_GGUP2CLQ / 57\n"
     ]
    },
    {
     "ename": "KeyboardInterrupt",
     "evalue": "",
     "output_type": "error",
     "traceback": [
      "\u001b[1;31m---------------------------------------------------------------------------\u001b[0m",
      "\u001b[1;31mKeyboardInterrupt\u001b[0m                         Traceback (most recent call last)",
      "Cell \u001b[1;32mIn [26], line 21\u001b[0m\n\u001b[0;32m     19\u001b[0m \u001b[38;5;28;01mwith\u001b[39;00m \u001b[38;5;28mopen\u001b[39m(\u001b[38;5;124mf\u001b[39m\u001b[38;5;124m\"\u001b[39m\u001b[38;5;124mclanwars/\u001b[39m\u001b[38;5;132;01m{\u001b[39;00mwar_tag\u001b[38;5;132;01m}\u001b[39;00m\u001b[38;5;124m.json\u001b[39m\u001b[38;5;124m\"\u001b[39m, \u001b[38;5;124m\"\u001b[39m\u001b[38;5;124mw\u001b[39m\u001b[38;5;124m\"\u001b[39m) \u001b[38;5;28;01mas\u001b[39;00m f:\n\u001b[0;32m     20\u001b[0m     f\u001b[38;5;241m.\u001b[39mwrite(json\u001b[38;5;241m.\u001b[39mdumps(attacks))\n\u001b[1;32m---> 21\u001b[0m time\u001b[38;5;241m.\u001b[39msleep(\u001b[38;5;241m60\u001b[39m)\n",
      "\u001b[1;31mKeyboardInterrupt\u001b[0m: "
     ]
    }
   ],
   "source": [
    "import time\n",
    "import datetime\n",
    "import json\n",
    "\n",
    "while True:\n",
    "    random_string = get_random_string(3)\n",
    "    print(f\"new search string {random_string}\")\n",
    "    clans_response = requests.get(f\"{url}/clans?name={random_string}&minMembers=20\", headers=header)\n",
    "    print(f\"found {len(clans_response.json()['items'])} clans\")\n",
    "    for clan in clans_response.json()['items']:\n",
    "        print(f\"Parsing clan {clan['name']}\")\n",
    "        if not clan['isWarLogPublic']:\n",
    "            print(f\"Clan war log is not public\")\n",
    "            continue\n",
    "        war_tag, attacks = get_war_log(clan['tag'])\n",
    "        if len(attacks) == 0:\n",
    "            continue\n",
    "        print(f\"{datetime.datetime.now()} - {war_tag} / {len(attacks)}\")\n",
    "        with open(f\"clanwars/{war_tag}.json\", \"w\") as f:\n",
    "            f.write(json.dumps(attacks))\n",
    "        time.sleep(5)\n",
    "    "
   ]
  },
  {
   "cell_type": "code",
   "execution_count": 55,
   "id": "1bc6455d-a23f-434f-a9d9-b2f5958ec1be",
   "metadata": {},
   "outputs": [
    {
     "data": {
      "text/plain": [
       "{'cursors': {}}"
      ]
     },
     "execution_count": 55,
     "metadata": {},
     "output_type": "execute_result"
    }
   ],
   "source": [
    "clans_response.json()['paging']"
   ]
  },
  {
   "cell_type": "code",
   "execution_count": 13,
   "id": "bdcefb92-1484-47cf-8abc-91c2c72c7d0a",
   "metadata": {},
   "outputs": [
    {
     "data": {
      "text/plain": [
       "'#2YPRRQYR9'"
      ]
     },
     "execution_count": 13,
     "metadata": {},
     "output_type": "execute_result"
    }
   ],
   "source": [
    "clan['tag']"
   ]
  },
  {
   "cell_type": "code",
   "execution_count": 14,
   "id": "24771e76-a7b1-4bd9-ad51-9f379a160d45",
   "metadata": {},
   "outputs": [
    {
     "data": {
      "text/plain": [
       "{'tag': '#2YPRRQYR9',\n",
       " 'name': 'ABC',\n",
       " 'type': 'inviteOnly',\n",
       " 'badgeUrls': {'small': 'https://api-assets.clashofclans.com/badges/70/Mf3kGgTCa4AaGxp9ETmuOwGGTw7zpO2AlyzWKF9DpXw.png',\n",
       "  'large': 'https://api-assets.clashofclans.com/badges/512/Mf3kGgTCa4AaGxp9ETmuOwGGTw7zpO2AlyzWKF9DpXw.png',\n",
       "  'medium': 'https://api-assets.clashofclans.com/badges/200/Mf3kGgTCa4AaGxp9ETmuOwGGTw7zpO2AlyzWKF9DpXw.png'},\n",
       " 'clanLevel': 7,\n",
       " 'clanPoints': 17477,\n",
       " 'clanVersusPoints': 15617,\n",
       " 'requiredTrophies': 200,\n",
       " 'warFrequency': 'always',\n",
       " 'warWinStreak': 1,\n",
       " 'warWins': 32,\n",
       " 'isWarLogPublic': False,\n",
       " 'warLeague': {'id': 48000008, 'name': 'Gold League II'},\n",
       " 'members': 22,\n",
       " 'labels': [{'id': 56000000,\n",
       "   'name': 'Clan Wars',\n",
       "   'iconUrls': {'small': 'https://api-assets.clashofclans.com/labels/64/lXaIuoTlfoNOY5fKcQGeT57apz1KFWkN9-raxqIlMbE.png',\n",
       "    'medium': 'https://api-assets.clashofclans.com/labels/128/lXaIuoTlfoNOY5fKcQGeT57apz1KFWkN9-raxqIlMbE.png'}},\n",
       "  {'id': 56000001,\n",
       "   'name': 'Clan War League',\n",
       "   'iconUrls': {'small': 'https://api-assets.clashofclans.com/labels/64/5w60_3bdtYUe9SM6rkxBRyV_8VvWw_jTlDS5ieU3IsI.png',\n",
       "    'medium': 'https://api-assets.clashofclans.com/labels/128/5w60_3bdtYUe9SM6rkxBRyV_8VvWw_jTlDS5ieU3IsI.png'}},\n",
       "  {'id': 56000007,\n",
       "   'name': 'International',\n",
       "   'iconUrls': {'small': 'https://api-assets.clashofclans.com/labels/64/zyaTKuJXrsPiU3DvjgdqaSA6B1qvcQ0cjD6ktRah4xs.png',\n",
       "    'medium': 'https://api-assets.clashofclans.com/labels/128/zyaTKuJXrsPiU3DvjgdqaSA6B1qvcQ0cjD6ktRah4xs.png'}}],\n",
       " 'requiredVersusTrophies': 200,\n",
       " 'requiredTownhallLevel': 2,\n",
       " 'chatLanguage': {'id': 75000000, 'name': 'English', 'languageCode': 'EN'}}"
      ]
     },
     "execution_count": 14,
     "metadata": {},
     "output_type": "execute_result"
    }
   ],
   "source": [
    "clan"
   ]
  }
 ],
 "metadata": {
  "kernelspec": {
   "display_name": "Python 3 (ipykernel)",
   "language": "python",
   "name": "python3"
  },
  "language_info": {
   "codemirror_mode": {
    "name": "ipython",
    "version": 3
   },
   "file_extension": ".py",
   "mimetype": "text/x-python",
   "name": "python",
   "nbconvert_exporter": "python",
   "pygments_lexer": "ipython3",
   "version": "3.10.7"
  }
 },
 "nbformat": 4,
 "nbformat_minor": 5
}
